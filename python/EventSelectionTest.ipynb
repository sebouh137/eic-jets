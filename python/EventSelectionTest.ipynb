{
 "cells": [
  {
   "cell_type": "code",
   "execution_count": 2,
   "metadata": {
    "code_folding": []
   },
   "outputs": [
    {
     "name": "stderr",
     "output_type": "stream",
     "text": [
      "/home/sebouh/.local/lib/python3.8/site-packages/uproot3/__init__.py:127: FutureWarning: Consider switching from 'uproot3' to 'uproot', since the new interface became the default in 2020.\n",
      "\n",
      "    pip install -U uproot\n",
      "\n",
      "In Python:\n",
      "\n",
      "    >>> import uproot\n",
      "    >>> with uproot.open(...) as file:\n",
      "    ...\n",
      "\n",
      "  warnings.warn(\n",
      "/home/sebouh/.local/lib/python3.8/site-packages/awkward0/__init__.py:12: FutureWarning: Consider switching from 'awkward0' to 'awkward', since the new interface became the default in 2020.\n",
      "\n",
      "    pip install -U awkward\n",
      "\n",
      "In Python:\n",
      "\n",
      "    >>> import awkward as ak\n",
      "    >>> new_style_array = ak.from_awkward0(old_style_array)\n",
      "    >>> old_style_array = ak.to_awkward0(new_style_array)\n",
      "\n",
      "  warnings.warn(\n"
     ]
    }
   ],
   "source": [
    "#load libraries \n",
    "import time,os\n",
    "from matplotlib.offsetbox import AnchoredText\n",
    "import sys,pandas as pd, matplotlib , matplotlib.pyplot as plt, matplotlib.lines , numpy as np, math, pylab\n",
    "from mpl_toolkits.mplot3d import Axes3D\n",
    "from matplotlib import cm\n",
    "#import cudf\n",
    "#import ROOT\n",
    "#from ROOT import TFile\n",
    "\n",
    "#import root_pandas\n",
    "import importlib\n",
    "#from toggle_cell import hide_cell \n",
    "%matplotlib inline\n",
    "\n",
    "#presets for plot style\n",
    "from scipy.constants import golden\n",
    "params = {'legend.fontsize': 'x-large',\n",
    "          'figure.figsize': (7, 7/golden),\n",
    "         'axes.labelsize': 'x-large',\n",
    "         'axes.titlesize':'x-large',\n",
    "         'xtick.labelsize':'x-large',\n",
    "         'ytick.labelsize':'x-large'}\n",
    "pylab.rcParams.update(params)\n",
    "\n",
    "viridis = cm.get_cmap('viridis', 12)\n",
    "inferno = cm.get_cmap('inferno', 12)\n",
    "autumn = cm.get_cmap('autumn', 12)\n",
    "\n",
    "#physical_devices = tf.config.list_physical_devices('GPU')\n",
    "#tf.config.experimental.set_memory_growth(physical_devices[0], True)\n",
    "#tf.config.experimental.set_memory_growth(physical_devices[1], True)\n",
    "rc = plt.rc\n",
    "rc('text', usetex=False)\n",
    "import matplotlib as mpl\n",
    "rc('font', family='serif')\n",
    "rc('text', usetex=False)\n",
    "rc('font', size=15)\n",
    "rc('xtick', labelsize=15)\n",
    "rc('ytick', labelsize=15)\n",
    "rc('legend', fontsize=15)\n",
    "import root_pandas,glob\n",
    "\n",
    "def read_n(pattern, n):\n",
    "    if not '*' in pattern:\n",
    "        a = root_pandas.read_root(pattern,chunksize=int(n))\n",
    "    else:\n",
    "        a = root_pandas.read_root(glob.glob(pattern),chunksize=int(n))\n",
    "    for b in a:\n",
    "        del a\n",
    "        print(n)\n",
    "        return b\n",
    "\n",
    "from scipy.optimize import curve_fit\n",
    "\n",
    "plt.rcParams['savefig.bbox']='tight'\n",
    "import misc_util\n",
    "importlib.reload(misc_util)\n",
    "import gc\n",
    "\n",
    "#import ROOT\n",
    "import collections\n",
    "#pdg = ROOT.TDatabasePDG()\n",
    "\n",
    "plt.rcParams['figure.facecolor']='white'\n",
    "plt.rcParams['savefig.facecolor']='white'\n",
    "plt.rcParams['savefig.bbox']='tight'\n",
    "\n",
    "imagedir=\"/home/sebouh/Documents/Overleaf_git/CC_DIS_EIC/images/\""
   ]
  },
  {
   "cell_type": "code",
   "execution_count": 3,
   "metadata": {},
   "outputs": [],
   "source": [
    "#produce plots similar to those in NC-DIS paper https://journals.aps.org/prd/pdf/10.1103/PhysRevD.102.074015"
   ]
  },
  {
   "cell_type": "code",
   "execution_count": 3,
   "metadata": {},
   "outputs": [],
   "source": [
    "#df_all = root_pandas.read_root(\"../CC_DIS_EIC_1.5M_all.root\")\n",
    "#df_all = root_pandas.read_root(\"../CC_DIS_EIC_test_10k.root\")\n",
    "\n",
    "#df_all = root_pandas.read_root(\"/data/sebouh/eic-jets/tuples/CC_DIS_275x10_tuples.root\")\n",
    "df_all=root_pandas.read_root(\"/data/sebouh/tuples/CC_DIS_275x10_tuples_highestEnergy.root\")"
   ]
  },
  {
   "cell_type": "code",
   "execution_count": 4,
   "metadata": {},
   "outputs": [
    {
     "name": "stdout",
     "output_type": "stream",
     "text": [
      "6.832667833194137 GB\n",
      "6.832667833194137 GB\n"
     ]
    }
   ],
   "source": [
    "print(df_all.memory_usage().sum()/1024**3, \"GB\")\n",
    "ints = df_all.select_dtypes(include=['int64']).columns.tolist()\n",
    "df_all[ints] = df_all[ints].astype('int16')\n",
    "print(df_all.memory_usage().sum()/1024**3, \"GB\")\n",
    "#for col in \"Hadron_i Jet_i Neutrino_PID Quark_PID GenJet_NCharged GenJet_NNeutrals Jet_NCharged Jet_NNeutrals\".split():\n",
    "    "
   ]
  },
  {
   "cell_type": "code",
   "execution_count": 5,
   "metadata": {},
   "outputs": [
    {
     "name": "stdout",
     "output_type": "stream",
     "text": [
      "6.832667833194137 GB\n"
     ]
    }
   ],
   "source": [
    "print(df_all.memory_usage().sum()/1024**3, \"GB\")"
   ]
  },
  {
   "cell_type": "code",
   "execution_count": 6,
   "metadata": {},
   "outputs": [
    {
     "data": {
      "text/plain": [
       "3333"
      ]
     },
     "execution_count": 6,
     "metadata": {},
     "output_type": "execute_result"
    }
   ],
   "source": [
    "import gc\n",
    "gc.collect()"
   ]
  },
  {
   "cell_type": "code",
   "execution_count": 7,
   "metadata": {},
   "outputs": [
    {
     "name": "stdout",
     "output_type": "stream",
     "text": [
      "['Jet_PT', 'Jet_Eta', 'Jet_Phi', 'Jet_Mass', 'Jet_DeltaEta', 'Jet_DeltaPhi', 'Jet_NCharged', 'Jet_NNeutrals', 'Jet_NeutralEnergyFraction', 'Jet_ChargedEnergyFraction', 'GenJet_PT', 'GenJet_Eta', 'GenJet_Phi', 'GenJet_Mass', 'GenJet_DeltaEta', 'GenJet_DeltaPhi', 'GenJet_NCharged', 'GenJet_NNeutrals', 'GenJet_NeutralEnergyFraction', 'GenJet_ChargedEnergyFraction', 'Neutrino_PID', 'Neutrino_Status', 'Neutrino_E', 'Neutrino_Px', 'Neutrino_Py', 'Neutrino_Pz', 'Neutrino_PT', 'Neutrino_Eta', 'Quark_PID', 'Quark_Status', 'Quark_E', 'Quark_Px', 'Quark_Py', 'Quark_Pz', 'Quark_PT', 'Quark_Eta', 'MissingET_MET', 'MissingET_Eta', 'MissingET_Phi', 'GenMissingET_MET', 'GenMissingET_Eta', 'GenMissingET_Phi', 'Event_Number', 'Gen_W2', 'Gen_x', 'Gen_y', 'Gen_Q2', 'GenJet_size', 'Hadron_PID', 'Hadron_Charge', 'Hadron_P', 'Hadron_PT', 'Hadron_Eta', 'Hadron_Phi', 'Hadron_E', 'Hadron_ET', 'Hadron_Eem', 'Hadron_Ehad', 'GenHadron_PID', 'GenHadron_Charge', 'GenHadron_P', 'GenHadron_PT', 'GenHadron_Eta', 'GenHadron_Phi', 'GenHadron_E', 'Hadron_i', 'Jet_i', 'GenJet_n_22', 'Jet_n_22', 'GenJet_n_211', 'Jet_n_211', 'GenJet_n_m211', 'Jet_n_m211', 'GenJet_n_2212', 'Jet_n_2212', 'GenJet_n_m2212', 'Jet_n_m2212', 'GenJet_n_2112', 'Jet_n_2112', 'GenJet_n_m2112', 'Jet_n_m2112', 'GenJet_n_130', 'Jet_n_130', 'GenJet_n_310', 'Jet_n_310', 'GenJet_n_321', 'Jet_n_321', 'GenJet_n_m321', 'Jet_n_m321', 'GenJet_n_other', 'Jet_n_other', 'ebeam', 'pbeam', 'S', 'JB_MET', 'JB_Eta', 'JB_Phi', 'JB_Q2', 'JB_x', 'JB_y', 'JB_delta', 'VAP', 'VP', 'Jet_E', 'GenJet_E', 'Hadron_Px', 'Hadron_Py', 'Hadron_Pz', 'GenHadron_Px', 'GenHadron_Py', 'GenHadron_Pz', 'Jet_Px', 'Jet_Py', 'Jet_Pz', 'Jet_P', 'GenJet_Px', 'GenJet_Py', 'GenJet_Pz', 'GenJet_P', 'Gen_qT', 'qT', 'Gen_qT_Phi', 'qT_Phi', 'Hadron_Jt', 'Hadron_Zh', 'GenHadron_Jt', 'GenHadron_Zh']\n"
     ]
    }
   ],
   "source": [
    "print(list(df_all.columns))"
   ]
  },
  {
   "cell_type": "code",
   "execution_count": 8,
   "metadata": {
    "code_folding": []
   },
   "outputs": [
    {
     "name": "stdout",
     "output_type": "stream",
     "text": [
      "[9239951, 1488724, 955441, 1477705, 8455701]\n"
     ]
    }
   ],
   "source": [
    "if not \"Hadron_i\" in df_all.columns:\n",
    "    df_all['Hadron_i'] = df_all.eval(\"Jet_i-Jet_i\")\n",
    "df_jets = df_all.query('(Jet_PT > 0 or GenJet_PT>0) and Hadron_i == 0')\n",
    "df_rg = df_all.query('Jet_E > 0 and GenJet_E>0 and Hadron_i == 0')\n",
    "df_nu = df_all.query(\"Jet_i == 0 and Hadron_i == 0\") #just neutrinos.  \n",
    "df_hadrons = df_all.query(\"Hadron_P>0 or Hadron_E>0\")\n",
    "print([len(a) for a in (df_all,df_jets,df_rg,df_nu,df_hadrons)])\n",
    "del df_all"
   ]
  },
  {
   "cell_type": "code",
   "execution_count": null,
   "metadata": {},
   "outputs": [],
   "source": [
    "#NC DIS e-:  5.7e-5 mb -> 5.7e4 pb\n",
    "#NC DIS e+   5.7e-5 mb\n",
    "#Photoproduction e-:  5.8e-5 mb -> 5.8e4 pb\n",
    "#Photoproduction e+:  5.8e-5 mb\n",
    "\n",
    "#CC DIS e-:  12 pb\n",
    "\n",
    "#1.5M events each"
   ]
  },
  {
   "cell_type": "code",
   "execution_count": 4,
   "metadata": {},
   "outputs": [
    {
     "name": "stdout",
     "output_type": "stream",
     "text": [
      "28.751267770305276 GB\n",
      "28.751267770305276 GB\n",
      "[38880905, 1, 1, 1, 1]\n",
      "7.379040863364935 GB\n",
      "7.379040863364935 GB\n",
      "[9978822, 2, 2, 2, 2]\n",
      "6.488872613757849 GB\n",
      "6.488872613757849 GB\n",
      "[9191786, 3, 3, 3, 3]\n",
      "3.117825785651803 GB\n",
      "3.117825785651803 GB\n",
      "[4216297, 4, 4, 4, 4]\n"
     ]
    }
   ],
   "source": [
    "#load all reactions:\n",
    "df_jets={}\n",
    "df_hadrons={}\n",
    "df_nu={}\n",
    "df_rg={}\n",
    "for reaction in \"Photoproduction_hadd\", \"CC_DIS\", \"CC_DIS_positron\", \"NC_DIS\":\n",
    "    df_all = root_pandas.read_root(f\"/data/sebouh/tuples/{reaction}_275x10_tuples.root\")\n",
    "    print(df_all.memory_usage().sum()/1024**3, \"GB\")\n",
    "    ints = df_all.select_dtypes(include=['int64']).columns.tolist()\n",
    "    df_all[ints] = df_all[ints].astype('int16')\n",
    "    print(df_all.memory_usage().sum()/1024**3, \"GB\")\n",
    "    import gc\n",
    "    gc.collect()\n",
    "\n",
    "    if not \"Hadron_i\" in df_all.columns:\n",
    "        df_all['Hadron_i'] = df_all.eval(\"Jet_i-Jet_i\")\n",
    "    df_jets[reaction] = df_all.query('(Jet_PT > 0 or GenJet_PT>0) and Hadron_i == 0')\n",
    "    df_rg[reaction] = df_all.query('Jet_E > 0 and GenJet_E>0 and Hadron_i == 0')\n",
    "    df_nu[reaction] = df_all.query(\"Jet_i == 0 and Hadron_i == 0\") #just neutrinos.  \n",
    "    df_hadrons[reaction] = df_all.query(\"Hadron_P>0 or Hadron_E>0\")\n",
    "    print([len(a) for a in (df_all,df_jets,df_rg,df_nu,df_hadrons)])\n",
    "    del df_all"
   ]
  },
  {
   "cell_type": "code",
   "execution_count": 42,
   "metadata": {
    "code_folding": []
   },
   "outputs": [],
   "source": [
    "#jetptmin = 10\n",
    "q2min = 100\n",
    "ymin,ymax = .01,.9\n",
    "\n",
    "q = f\"Gen_Q2>{q2min}  and Gen_y>{ymin} and Gen_y<{ymax} and MissingET_MET>15\""
   ]
  },
  {
   "cell_type": "code",
   "execution_count": 45,
   "metadata": {},
   "outputs": [
    {
     "name": "stdout",
     "output_type": "stream",
     "text": [
      "0.018517955330640844\n",
      "0.02810538416622062\n",
      "0.02431755145735001\n"
     ]
    }
   ],
   "source": [
    "df = df_nu['CC_DIS'].query(q)\n",
    "R = df.query(q).eval(\"VAP/VP\")\n",
    "#plt.hist(R,bins=100, range=(0, 1))\n",
    "print(len(df.query(\"VAP/VP>0.35 and \" + q))/len(df.query(q)))\n",
    "print(len(df.query(\"VAP/VP>0.25 and \" + q))/len(df.query(q)))\n",
    "print(len(df.query(\"(VAP/VP>0.35 or (VAP/VP>0.25 and Neutrino_PT<20)) and \" + q))/len(df.query(q)))"
   ]
  },
  {
   "cell_type": "code",
   "execution_count": 71,
   "metadata": {},
   "outputs": [
    {
     "name": "stdout",
     "output_type": "stream",
     "text": [
      "0.0\n"
     ]
    },
    {
     "data": {
      "image/png": "[encoded data removed]",
      "text/plain": [
       "<Figure size 504x311.489 with 1 Axes>"
      ]
     },
     "metadata": {},
     "output_type": "display_data"
    }
   ],
   "source": [
    "df = df_nu['CC_DIS'].query(q)\n",
    "d = df.eval(\"JB_delta\")\n",
    "plt.hist(d,bins=100, range=(0, 100))\n",
    "print(len(df.query(\"JB_delta==30 and \"+ q))/len(df.query(q)))"
   ]
  },
  {
   "cell_type": "code",
   "execution_count": 119,
   "metadata": {},
   "outputs": [
    {
     "name": "stdout",
     "output_type": "stream",
     "text": [
      "0.6885962037962038 430803 625625\n",
      "0.0 0 471644\n",
      "2.4773674785353802e-05 7 282558\n"
     ]
    }
   ],
   "source": [
    "ymin,ymax = .01,.9\n",
    "q = f\"JB_Q2>0\"\n",
    "\n",
    "for reaction in \"CC_DIS\", \"NC_DIS\", \"Photoproduction\":\n",
    "    df = df_nu[reaction].query(q)\n",
    "    n=len(df.query(\"MissingET_MET>15 and VAP/VP<0.35 and (VAP/VP<0.25 or MissingET_MET>20) and JB_delta<30\"))\n",
    "    d=len(df)\n",
    "    print(n/d, n, d)\n",
    "    "
   ]
  },
  {
   "cell_type": "code",
   "execution_count": 211,
   "metadata": {},
   "outputs": [
    {
     "name": "stdout",
     "output_type": "stream",
     "text": [
      "(0.3095287491502969, 0.0, 4.00274)\n",
      "0.07732921677408397\n"
     ]
    },
    {
     "data": {
      "image/png": "[encoded data removed]",
      "text/plain": [
       "<Figure size 504x720 with 2 Axes>"
      ]
     },
     "metadata": {},
     "output_type": "display_data"
    }
   ],
   "source": [
    "fig,axs= plt.subplots(2,1,figsize=(7,10))\n",
    "plt.sca(axs[0])\n",
    "ymin,ymax = .01,.9\n",
    "#q = f\"JB_Q2>0\"\n",
    "reactions = \"CC_DIS\", \"NC_DIS\", \"Photoproduction\"\n",
    "markers='^os'\n",
    "pbs=[14, 5.7e4, 5.8e4]\n",
    "ys={}\n",
    "dys={}\n",
    "for i in range(3):\n",
    "    reaction = reactions[i]\n",
    "    df = df_nu[reaction]\n",
    "    partitions = np.linspace(0, 50, 51)\n",
    "    x=[]\n",
    "    y=[]\n",
    "    dy =[]\n",
    "    shift=.01\n",
    "    nprev = 1\n",
    "    for mn, mx in zip(partitions[:-1], partitions[1:]):\n",
    "        x.append(mn+i*shift)\n",
    "        n=len(df.query(f\"MissingET_MET>{mn} and VAP/VP<0.35 and JB_delta<30 and JB_Q2>100 and JB_y<0.9 and JB_y>0.01\"))\n",
    "        d=len(df)\n",
    "        y.append(pbs[i]*n/max(d,1))\n",
    "        if nprev >0:\n",
    "            dy.append(pbs[i]*np.sqrt((max(n,1)*max(d-n,1))/max(d,1)**3))\n",
    "        else :\n",
    "            dy.append(0)\n",
    "        nprev = n\n",
    "    plt.errorbar(x,y, dy, linestyle='', marker=markers[i], label=reaction.replace(\"_\", \" \"))\n",
    "    ys[reaction]=pd.Series(y)\n",
    "    dys[reaction]=pd.Series(dy)\n",
    "plt.yscale('log')\n",
    "plt.ylabel(\"$\\sigma$ remaining after cut\")\n",
    "plt.ylim(1e-2)\n",
    "plt.legend()\n",
    "plt.sca(axs[1])\n",
    "plt.errorbar(x[:40], ((ys['Photoproduction']+ys['NC_DIS'])/ys['CC_DIS'])[:40], (np.hypot(dys['Photoproduction'],dys['NC_DIS'])/ys['CC_DIS'])[:40])\n",
    "plt.ylabel(\"$(\\\\sigma_{\\\\rm pho}+\\\\sigma_{\\\\rm NC\\,DIS}) /\\\\sigma_{\\\\rm CC\\,DIS}$\")\n",
    "plt.xlabel(\"$p^{\\\\rm miss}_T$ cutoff [GeV]\")\n",
    "plt.yscale('log')\n",
    "\n",
    "thebin=15\n",
    "print((ys['Photoproduction'][thebin],ys['NC_DIS'][thebin], ys['CC_DIS'][thebin]))\n",
    "print((ys['Photoproduction'][thebin]+ys['NC_DIS'][thebin])/ys['CC_DIS'][thebin])"
   ]
  },
  {
   "cell_type": "code",
   "execution_count": 28,
   "metadata": {},
   "outputs": [
    {
     "name": "stdout",
     "output_type": "stream",
     "text": [
      "425843 1477705 0.28817862834598246 0.722468223430173 0.0004416080826078079\n",
      "0 1496100 0.0 0.0 0.0\n",
      "62 9979334 6.212839454015669e-06 0.009249589735939132 7.890313996917842e-07\n",
      "(0.3603446883329088, 0.0, 4.034500796843754)\n",
      "0.08931580546837701584106+-0.011\n"
     ]
    }
   ],
   "source": [
    "\n",
    "\n",
    "ymin,ymax = .01,.9\n",
    "#q = f\"JB_Q2>0\"\n",
    "reactions = \"CC_DIS\", \"NC_DIS\", \"Photoproduction_hadd\"\n",
    "markers='^os'\n",
    "pbs=[14, 5.7e4, 5.8e4]\n",
    "y={}\n",
    "dy={}\n",
    "for i in range(3):\n",
    "    reaction = reactions[i]\n",
    "    df = df_nu[reaction]\n",
    "    \n",
    "    n=len(df.query(f\"MissingET_MET>15 and VAP/VP<0.35 and JB_delta<30 and JB_Q2>100 and JB_y<0.9 and JB_y>0.01\"))\n",
    "    n=len(df.query(f\"MissingET_MET>15 and VAP/VP<0.35 and JB_delta<30 and JB_Q2>100 and JB_y<0.9 and JB_y>0.01\"))\n",
    "    d=len(df)\n",
    "    d2=len(df.query(\"JB_Q2>100 and JB_y<0.9 and JB_y>0.01\"))\n",
    "    print(n, d, n/d,n/d2,  np.sqrt(n)/d)\n",
    "    y[reaction]= n/d*pbs[i]\n",
    "    dy[reaction]= np.sqrt(n)/d*pbs[i]\n",
    "print((y['Photoproduction_hadd'],y['NC_DIS'], y['CC_DIS']))\n",
    "print(\"%.23f+-%.3f\"%((y['Photoproduction_hadd']+y['NC_DIS'])/y['CC_DIS'], dy['Photoproduction_hadd']/y['CC_DIS']))\n",
    "\n"
   ]
  },
  {
   "cell_type": "code",
   "execution_count": 17,
   "metadata": {},
   "outputs": [
    {
     "data": {
      "text/plain": [
       "['Jet_PT',\n",
       " 'Jet_Eta',\n",
       " 'Jet_Phi',\n",
       " 'Jet_Mass',\n",
       " 'Jet_DeltaEta',\n",
       " 'Jet_DeltaPhi',\n",
       " 'Jet_NCharged',\n",
       " 'Jet_NNeutrals',\n",
       " 'Jet_NeutralEnergyFraction',\n",
       " 'Jet_ChargedEnergyFraction',\n",
       " 'GenJet_PT',\n",
       " 'GenJet_Eta',\n",
       " 'GenJet_Phi',\n",
       " 'GenJet_Mass',\n",
       " 'GenJet_DeltaEta',\n",
       " 'GenJet_DeltaPhi',\n",
       " 'GenJet_NCharged',\n",
       " 'GenJet_NNeutrals',\n",
       " 'GenJet_NeutralEnergyFraction',\n",
       " 'GenJet_ChargedEnergyFraction',\n",
       " 'Neutrino_PID',\n",
       " 'Neutrino_Status',\n",
       " 'Neutrino_E',\n",
       " 'Neutrino_Px',\n",
       " 'Neutrino_Py',\n",
       " 'Neutrino_Pz',\n",
       " 'Neutrino_PT',\n",
       " 'Neutrino_Eta',\n",
       " 'Quark_PID',\n",
       " 'Quark_Status',\n",
       " 'Quark_E',\n",
       " 'Quark_Px',\n",
       " 'Quark_Py',\n",
       " 'Quark_Pz',\n",
       " 'Quark_PT',\n",
       " 'Quark_Eta',\n",
       " 'MissingET_MET',\n",
       " 'MissingET_Eta',\n",
       " 'MissingET_Phi',\n",
       " 'GenMissingET_MET',\n",
       " 'GenMissingET_Eta',\n",
       " 'GenMissingET_Phi',\n",
       " 'Event_Number',\n",
       " 'Gen_W2',\n",
       " 'Gen_x',\n",
       " 'Gen_y',\n",
       " 'Gen_Q2',\n",
       " 'GenJet_size',\n",
       " 'Hadron_PID',\n",
       " 'Hadron_Charge',\n",
       " 'Hadron_P',\n",
       " 'Hadron_PT',\n",
       " 'Hadron_Eta',\n",
       " 'Hadron_Phi',\n",
       " 'Hadron_E',\n",
       " 'Hadron_ET',\n",
       " 'Hadron_Eem',\n",
       " 'Hadron_Ehad',\n",
       " 'GenHadron_PID',\n",
       " 'GenHadron_Charge',\n",
       " 'GenHadron_P',\n",
       " 'GenHadron_PT',\n",
       " 'GenHadron_Eta',\n",
       " 'GenHadron_Phi',\n",
       " 'GenHadron_E',\n",
       " 'Hadron_i',\n",
       " 'Jet_i',\n",
       " 'GenJet_n_22',\n",
       " 'Jet_n_22',\n",
       " 'GenJet_n_211',\n",
       " 'Jet_n_211',\n",
       " 'GenJet_n_m211',\n",
       " 'Jet_n_m211',\n",
       " 'GenJet_n_2212',\n",
       " 'Jet_n_2212',\n",
       " 'GenJet_n_m2212',\n",
       " 'Jet_n_m2212',\n",
       " 'GenJet_n_2112',\n",
       " 'Jet_n_2112',\n",
       " 'GenJet_n_m2112',\n",
       " 'Jet_n_m2112',\n",
       " 'GenJet_n_130',\n",
       " 'Jet_n_130',\n",
       " 'GenJet_n_310',\n",
       " 'Jet_n_310',\n",
       " 'GenJet_n_321',\n",
       " 'Jet_n_321',\n",
       " 'GenJet_n_m321',\n",
       " 'Jet_n_m321',\n",
       " 'GenJet_n_other',\n",
       " 'Jet_n_other',\n",
       " 'ebeam',\n",
       " 'pbeam',\n",
       " 'S',\n",
       " 'JB_MET',\n",
       " 'JB_Eta',\n",
       " 'JB_Phi',\n",
       " 'JB_Q2',\n",
       " 'JB_x',\n",
       " 'JB_y',\n",
       " 'JB_delta',\n",
       " 'VAP',\n",
       " 'VP',\n",
       " 'Jet_E',\n",
       " 'GenJet_E',\n",
       " 'Hadron_Px',\n",
       " 'Hadron_Py',\n",
       " 'Hadron_Pz',\n",
       " 'GenHadron_Px',\n",
       " 'GenHadron_Py',\n",
       " 'GenHadron_Pz',\n",
       " 'Jet_Px',\n",
       " 'Jet_Py',\n",
       " 'Jet_Pz',\n",
       " 'Jet_P',\n",
       " 'GenJet_Px',\n",
       " 'GenJet_Py',\n",
       " 'GenJet_Pz',\n",
       " 'GenJet_P',\n",
       " 'Gen_qT',\n",
       " 'qT',\n",
       " 'Gen_qT_Phi',\n",
       " 'qT_Phi',\n",
       " 'Hadron_Jt',\n",
       " 'Hadron_Zh',\n",
       " 'GenHadron_Jt',\n",
       " 'GenHadron_Zh']"
      ]
     },
     "execution_count": 17,
     "metadata": {},
     "output_type": "execute_result"
    }
   ],
   "source": [
    "list(df_nu['Photoproduction_hadd'].columns)"
   ]
  },
  {
   "cell_type": "code",
   "execution_count": 29,
   "metadata": {},
   "outputs": [
    {
     "name": "stdout",
     "output_type": "stream",
     "text": [
      "Welcome to JupyROOT 6.27/01\n"
     ]
    }
   ],
   "source": [
    "import ROOT"
   ]
  },
  {
   "cell_type": "code",
   "execution_count": null,
   "metadata": {},
   "outputs": [],
   "source": []
  }
 ],
 "metadata": {
  "kernelspec": {
   "display_name": "Python 3",
   "language": "python",
   "name": "python3"
  },
  "language_info": {
   "codemirror_mode": {
    "name": "ipython",
    "version": 3
   },
   "file_extension": ".py",
   "mimetype": "text/x-python",
   "name": "python",
   "nbconvert_exporter": "python",
   "pygments_lexer": "ipython3",
   "version": "3.8.10"
  }
 },
 "nbformat": 4,
 "nbformat_minor": 4
}
